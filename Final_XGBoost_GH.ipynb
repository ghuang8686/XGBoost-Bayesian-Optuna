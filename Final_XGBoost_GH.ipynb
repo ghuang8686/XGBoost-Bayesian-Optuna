{
 "cells": [
  {
   "cell_type": "markdown",
   "id": "a1da6ad1-a227-44ac-a93a-756df46c497e",
   "metadata": {},
   "source": [
    "# AMA Predictor - XGBoost Modeling\n",
    "* Last Updated: \n",
    "    * <b><font color='coral'>April 15, 2024 (GH)</font></b>\n",
    "    * Original Notebook (dev1 branch): 5.1_XGBoost-Final.ipynb\n",
    "    * Notebook to be submitted for execution for hyperparameter tuning!\n",
    "        * https://notebooks.cloud.google.com/view/prj-cxbi-dev-nane1-dsc-expe-northamerica-northeast1-notebooks/executor_files/final_xgboost_gh__1713269249954/final_xgboost_gh_at_2024_04_16_05_07_36.ipynb?_ga=2.206854810.-883769773.1667388537"
   ]
  },
  {
   "cell_type": "code",
   "execution_count": 2,
   "id": "21df01cd-c67b-4603-8348-1b231820e473",
   "metadata": {
    "tags": []
   },
   "outputs": [],
   "source": [
    "import numpy as np\n",
    "import pandas as pd"
   ]
  },
  {
   "cell_type": "code",
   "execution_count": 3,
   "id": "08152c41-95d3-4b81-8317-19c2674d7195",
   "metadata": {
    "tags": []
   },
   "outputs": [],
   "source": [
    "# df = pd.read_csv('Data_Prep_After_FE.csv')\n",
    "df = pd.read_csv('gs://tf-mnb-bucket-for_gang_huang/AMA_Predictor/Data_Prep_After_FE.csv')\n",
    "\n",
    "df.set_index('startdatetime', inplace=True)"
   ]
  },
  {
   "cell_type": "code",
   "execution_count": 4,
   "id": "c1b8785a-4387-4e9e-a7c6-933d79b5954f",
   "metadata": {
    "tags": []
   },
   "outputs": [
    {
     "data": {
      "text/html": [
       "<div>\n",
       "<style scoped>\n",
       "    .dataframe tbody tr th:only-of-type {\n",
       "        vertical-align: middle;\n",
       "    }\n",
       "\n",
       "    .dataframe tbody tr th {\n",
       "        vertical-align: top;\n",
       "    }\n",
       "\n",
       "    .dataframe thead th {\n",
       "        text-align: right;\n",
       "    }\n",
       "</style>\n",
       "<table border=\"1\" class=\"dataframe\">\n",
       "  <thead>\n",
       "    <tr style=\"text-align: right;\">\n",
       "      <th></th>\n",
       "      <th>ama</th>\n",
       "      <th>hour</th>\n",
       "      <th>minute</th>\n",
       "      <th>duration</th>\n",
       "      <th>dayofweek</th>\n",
       "      <th>dayofyear</th>\n",
       "      <th>weeknum</th>\n",
       "      <th>month</th>\n",
       "      <th>quarter</th>\n",
       "      <th>year</th>\n",
       "      <th>...</th>\n",
       "      <th>distributor_Sticky Fingers Production Inc.</th>\n",
       "      <th>distributor_TBS</th>\n",
       "      <th>distributor_Warner Brothers</th>\n",
       "      <th>distributor_eOne</th>\n",
       "      <th>cat_genre_Cat_Comedy</th>\n",
       "      <th>cat_genre_Cat_Comedy_Romance</th>\n",
       "      <th>cat_genre_Cat_Doc_Crime_Mystery</th>\n",
       "      <th>cat_genre_Cat_Other_Genre</th>\n",
       "      <th>cat_genre_Cat_Reality_Competition</th>\n",
       "      <th>cat_genre_Cat_Talk_Show</th>\n",
       "    </tr>\n",
       "    <tr>\n",
       "      <th>startdatetime</th>\n",
       "      <th></th>\n",
       "      <th></th>\n",
       "      <th></th>\n",
       "      <th></th>\n",
       "      <th></th>\n",
       "      <th></th>\n",
       "      <th></th>\n",
       "      <th></th>\n",
       "      <th></th>\n",
       "      <th></th>\n",
       "      <th></th>\n",
       "      <th></th>\n",
       "      <th></th>\n",
       "      <th></th>\n",
       "      <th></th>\n",
       "      <th></th>\n",
       "      <th></th>\n",
       "      <th></th>\n",
       "      <th></th>\n",
       "      <th></th>\n",
       "      <th></th>\n",
       "    </tr>\n",
       "  </thead>\n",
       "  <tbody>\n",
       "    <tr>\n",
       "      <th>2020-12-28 02:00:00</th>\n",
       "      <td>16.161650</td>\n",
       "      <td>2</td>\n",
       "      <td>0</td>\n",
       "      <td>30</td>\n",
       "      <td>0</td>\n",
       "      <td>363</td>\n",
       "      <td>53</td>\n",
       "      <td>12</td>\n",
       "      <td>4</td>\n",
       "      <td>2020</td>\n",
       "      <td>...</td>\n",
       "      <td>0</td>\n",
       "      <td>0</td>\n",
       "      <td>1</td>\n",
       "      <td>0</td>\n",
       "      <td>1</td>\n",
       "      <td>0</td>\n",
       "      <td>0</td>\n",
       "      <td>0</td>\n",
       "      <td>0</td>\n",
       "      <td>0</td>\n",
       "    </tr>\n",
       "    <tr>\n",
       "      <th>2020-12-28 02:30:00</th>\n",
       "      <td>12.645497</td>\n",
       "      <td>2</td>\n",
       "      <td>30</td>\n",
       "      <td>30</td>\n",
       "      <td>0</td>\n",
       "      <td>363</td>\n",
       "      <td>53</td>\n",
       "      <td>12</td>\n",
       "      <td>4</td>\n",
       "      <td>2020</td>\n",
       "      <td>...</td>\n",
       "      <td>0</td>\n",
       "      <td>0</td>\n",
       "      <td>1</td>\n",
       "      <td>0</td>\n",
       "      <td>1</td>\n",
       "      <td>0</td>\n",
       "      <td>0</td>\n",
       "      <td>0</td>\n",
       "      <td>0</td>\n",
       "      <td>0</td>\n",
       "    </tr>\n",
       "    <tr>\n",
       "      <th>2020-12-28 03:00:00</th>\n",
       "      <td>10.923170</td>\n",
       "      <td>3</td>\n",
       "      <td>0</td>\n",
       "      <td>30</td>\n",
       "      <td>0</td>\n",
       "      <td>363</td>\n",
       "      <td>53</td>\n",
       "      <td>12</td>\n",
       "      <td>4</td>\n",
       "      <td>2020</td>\n",
       "      <td>...</td>\n",
       "      <td>0</td>\n",
       "      <td>0</td>\n",
       "      <td>1</td>\n",
       "      <td>0</td>\n",
       "      <td>1</td>\n",
       "      <td>0</td>\n",
       "      <td>0</td>\n",
       "      <td>0</td>\n",
       "      <td>0</td>\n",
       "      <td>0</td>\n",
       "    </tr>\n",
       "    <tr>\n",
       "      <th>2020-12-28 03:30:00</th>\n",
       "      <td>10.517880</td>\n",
       "      <td>3</td>\n",
       "      <td>30</td>\n",
       "      <td>30</td>\n",
       "      <td>0</td>\n",
       "      <td>363</td>\n",
       "      <td>53</td>\n",
       "      <td>12</td>\n",
       "      <td>4</td>\n",
       "      <td>2020</td>\n",
       "      <td>...</td>\n",
       "      <td>0</td>\n",
       "      <td>0</td>\n",
       "      <td>1</td>\n",
       "      <td>0</td>\n",
       "      <td>1</td>\n",
       "      <td>0</td>\n",
       "      <td>0</td>\n",
       "      <td>0</td>\n",
       "      <td>0</td>\n",
       "      <td>0</td>\n",
       "    </tr>\n",
       "    <tr>\n",
       "      <th>2020-12-28 04:00:00</th>\n",
       "      <td>3.072320</td>\n",
       "      <td>4</td>\n",
       "      <td>0</td>\n",
       "      <td>30</td>\n",
       "      <td>0</td>\n",
       "      <td>363</td>\n",
       "      <td>53</td>\n",
       "      <td>12</td>\n",
       "      <td>4</td>\n",
       "      <td>2020</td>\n",
       "      <td>...</td>\n",
       "      <td>0</td>\n",
       "      <td>0</td>\n",
       "      <td>1</td>\n",
       "      <td>0</td>\n",
       "      <td>1</td>\n",
       "      <td>0</td>\n",
       "      <td>0</td>\n",
       "      <td>0</td>\n",
       "      <td>0</td>\n",
       "      <td>0</td>\n",
       "    </tr>\n",
       "  </tbody>\n",
       "</table>\n",
       "<p>5 rows × 127 columns</p>\n",
       "</div>"
      ],
      "text/plain": [
       "                           ama  hour  minute  duration  dayofweek  dayofyear  \\\n",
       "startdatetime                                                                  \n",
       "2020-12-28 02:00:00  16.161650     2       0        30          0        363   \n",
       "2020-12-28 02:30:00  12.645497     2      30        30          0        363   \n",
       "2020-12-28 03:00:00  10.923170     3       0        30          0        363   \n",
       "2020-12-28 03:30:00  10.517880     3      30        30          0        363   \n",
       "2020-12-28 04:00:00   3.072320     4       0        30          0        363   \n",
       "\n",
       "                     weeknum  month  quarter  year  ...  \\\n",
       "startdatetime                                       ...   \n",
       "2020-12-28 02:00:00       53     12        4  2020  ...   \n",
       "2020-12-28 02:30:00       53     12        4  2020  ...   \n",
       "2020-12-28 03:00:00       53     12        4  2020  ...   \n",
       "2020-12-28 03:30:00       53     12        4  2020  ...   \n",
       "2020-12-28 04:00:00       53     12        4  2020  ...   \n",
       "\n",
       "                     distributor_Sticky Fingers Production Inc.  \\\n",
       "startdatetime                                                     \n",
       "2020-12-28 02:00:00                                           0   \n",
       "2020-12-28 02:30:00                                           0   \n",
       "2020-12-28 03:00:00                                           0   \n",
       "2020-12-28 03:30:00                                           0   \n",
       "2020-12-28 04:00:00                                           0   \n",
       "\n",
       "                     distributor_TBS  distributor_Warner Brothers  \\\n",
       "startdatetime                                                       \n",
       "2020-12-28 02:00:00                0                            1   \n",
       "2020-12-28 02:30:00                0                            1   \n",
       "2020-12-28 03:00:00                0                            1   \n",
       "2020-12-28 03:30:00                0                            1   \n",
       "2020-12-28 04:00:00                0                            1   \n",
       "\n",
       "                     distributor_eOne  cat_genre_Cat_Comedy  \\\n",
       "startdatetime                                                 \n",
       "2020-12-28 02:00:00                 0                     1   \n",
       "2020-12-28 02:30:00                 0                     1   \n",
       "2020-12-28 03:00:00                 0                     1   \n",
       "2020-12-28 03:30:00                 0                     1   \n",
       "2020-12-28 04:00:00                 0                     1   \n",
       "\n",
       "                     cat_genre_Cat_Comedy_Romance  \\\n",
       "startdatetime                                       \n",
       "2020-12-28 02:00:00                             0   \n",
       "2020-12-28 02:30:00                             0   \n",
       "2020-12-28 03:00:00                             0   \n",
       "2020-12-28 03:30:00                             0   \n",
       "2020-12-28 04:00:00                             0   \n",
       "\n",
       "                     cat_genre_Cat_Doc_Crime_Mystery  \\\n",
       "startdatetime                                          \n",
       "2020-12-28 02:00:00                                0   \n",
       "2020-12-28 02:30:00                                0   \n",
       "2020-12-28 03:00:00                                0   \n",
       "2020-12-28 03:30:00                                0   \n",
       "2020-12-28 04:00:00                                0   \n",
       "\n",
       "                     cat_genre_Cat_Other_Genre  \\\n",
       "startdatetime                                    \n",
       "2020-12-28 02:00:00                          0   \n",
       "2020-12-28 02:30:00                          0   \n",
       "2020-12-28 03:00:00                          0   \n",
       "2020-12-28 03:30:00                          0   \n",
       "2020-12-28 04:00:00                          0   \n",
       "\n",
       "                     cat_genre_Cat_Reality_Competition  \\\n",
       "startdatetime                                            \n",
       "2020-12-28 02:00:00                                  0   \n",
       "2020-12-28 02:30:00                                  0   \n",
       "2020-12-28 03:00:00                                  0   \n",
       "2020-12-28 03:30:00                                  0   \n",
       "2020-12-28 04:00:00                                  0   \n",
       "\n",
       "                     cat_genre_Cat_Talk_Show  \n",
       "startdatetime                                 \n",
       "2020-12-28 02:00:00                        0  \n",
       "2020-12-28 02:30:00                        0  \n",
       "2020-12-28 03:00:00                        0  \n",
       "2020-12-28 03:30:00                        0  \n",
       "2020-12-28 04:00:00                        0  \n",
       "\n",
       "[5 rows x 127 columns]"
      ]
     },
     "execution_count": 4,
     "metadata": {},
     "output_type": "execute_result"
    }
   ],
   "source": [
    "df.head()"
   ]
  },
  {
   "cell_type": "code",
   "execution_count": 5,
   "id": "c57312b2-e027-47a7-926d-960d615a1eee",
   "metadata": {
    "tags": []
   },
   "outputs": [
    {
     "name": "stdout",
     "output_type": "stream",
     "text": [
      "Size of X_train: (39703, 126)\n",
      "Size of y_train: (39703,)\n",
      "Size of X_test: (9695, 126)\n",
      "Size of y_test: (9695,)\n"
     ]
    }
   ],
   "source": [
    "X = df.drop(['ama'], axis=1)\n",
    "y = df['ama']\n",
    "\n",
    "train_split_date = '2023-04-30'\n",
    "test_split_date = '2023-09-11'\n",
    "\n",
    "X_train = X.loc[X.index<=train_split_date]\n",
    "X_test = X.loc[X.index>=test_split_date]\n",
    "\n",
    "y_train = y.loc[y.index<=train_split_date]\n",
    "y_test = y.loc[y.index>=test_split_date]\n",
    "\n",
    "print(\"Size of X_train:\", X_train.shape)\n",
    "print(\"Size of y_train:\", y_train.shape)\n",
    "\n",
    "print(\"Size of X_test:\", X_test.shape)\n",
    "print(\"Size of y_test:\", y_test.shape)"
   ]
  },
  {
   "cell_type": "code",
   "execution_count": null,
   "id": "7edc1bdd-deb8-44ce-ba86-7189e9ac98d1",
   "metadata": {},
   "outputs": [],
   "source": [
    "!pip install xgboost"
   ]
  },
  {
   "cell_type": "code",
   "execution_count": 6,
   "id": "fd260dda-fe65-4b68-a793-2208b2519390",
   "metadata": {
    "tags": []
   },
   "outputs": [
    {
     "name": "stdout",
     "output_type": "stream",
     "text": [
      "Collecting optuna\n",
      "  Using cached optuna-3.6.1-py3-none-any.whl.metadata (17 kB)\n",
      "Collecting alembic>=1.5.0 (from optuna)\n",
      "  Using cached alembic-1.13.1-py3-none-any.whl.metadata (7.4 kB)\n",
      "Collecting colorlog (from optuna)\n",
      "  Using cached colorlog-6.8.2-py3-none-any.whl.metadata (10 kB)\n",
      "Requirement already satisfied: numpy in /opt/conda/lib/python3.10/site-packages (from optuna) (1.25.2)\n",
      "Requirement already satisfied: packaging>=20.0 in /opt/conda/lib/python3.10/site-packages (from optuna) (23.1)\n",
      "Requirement already satisfied: sqlalchemy>=1.3.0 in /opt/conda/lib/python3.10/site-packages (from optuna) (2.0.20)\n",
      "Requirement already satisfied: tqdm in /opt/conda/lib/python3.10/site-packages (from optuna) (4.66.1)\n",
      "Requirement already satisfied: PyYAML in /opt/conda/lib/python3.10/site-packages (from optuna) (6.0.1)\n",
      "Collecting Mako (from alembic>=1.5.0->optuna)\n",
      "  Using cached Mako-1.3.5-py3-none-any.whl.metadata (2.9 kB)\n",
      "Requirement already satisfied: typing-extensions>=4 in /opt/conda/lib/python3.10/site-packages (from alembic>=1.5.0->optuna) (4.7.1)\n",
      "Requirement already satisfied: greenlet!=0.4.17 in /opt/conda/lib/python3.10/site-packages (from sqlalchemy>=1.3.0->optuna) (2.0.2)\n",
      "Requirement already satisfied: MarkupSafe>=0.9.2 in /opt/conda/lib/python3.10/site-packages (from Mako->alembic>=1.5.0->optuna) (2.1.3)\n",
      "Using cached optuna-3.6.1-py3-none-any.whl (380 kB)\n",
      "Using cached alembic-1.13.1-py3-none-any.whl (233 kB)\n",
      "Using cached colorlog-6.8.2-py3-none-any.whl (11 kB)\n",
      "Using cached Mako-1.3.5-py3-none-any.whl (78 kB)\n",
      "Installing collected packages: Mako, colorlog, alembic, optuna\n",
      "Successfully installed Mako-1.3.5 alembic-1.13.1 colorlog-6.8.2 optuna-3.6.1\n",
      "\n",
      "\u001b[1m[\u001b[0m\u001b[34;49mnotice\u001b[0m\u001b[1;39;49m]\u001b[0m\u001b[39;49m A new release of pip is available: \u001b[0m\u001b[31;49m23.3.1\u001b[0m\u001b[39;49m -> \u001b[0m\u001b[32;49m24.0\u001b[0m\n",
      "\u001b[1m[\u001b[0m\u001b[34;49mnotice\u001b[0m\u001b[1;39;49m]\u001b[0m\u001b[39;49m To update, run: \u001b[0m\u001b[32;49mpip install --upgrade pip\u001b[0m\n"
     ]
    }
   ],
   "source": [
    "!pip install optuna"
   ]
  },
  {
   "cell_type": "code",
   "execution_count": 8,
   "id": "cc330b65-f460-43b4-9b68-68a2de6227a4",
   "metadata": {
    "tags": []
   },
   "outputs": [],
   "source": [
    "# import optuna\n",
    "# import xgboost as xgb\n",
    "# from sklearn.metrics import mean_absolute_error\n",
    "\n",
    "# def objective(trial):\n",
    "#     # Define the hyperparameters to tune\n",
    "#     param = {\n",
    "#         'verbosity': 0,\n",
    "#         'objective': 'reg:absoluteerror',\n",
    "#         'booster': trial.suggest_categorical('booster', ['gbtree', 'gblinear', 'dart']),\n",
    "#         'lambda': trial.suggest_float('lambda', 1e-8, 1.0, log=True),\n",
    "#         'alpha': trial.suggest_float('alpha', 1e-8, 1.0, log=True),\n",
    "#         'subsample': trial.suggest_float('subsample', 0.5, 1.0),\n",
    "#         'colsample_bytree': trial.suggest_float('colsample_bytree', 0.5, 1.0),\n",
    "#         'min_child_weight': trial.suggest_float('min_child_weight', 1, 10),\n",
    "#         'n_estimators': trial.suggest_int('n_estimators', 50, 1000),\n",
    "#         'eta': trial.suggest_float('eta', 0.01, 0.2),\n",
    "#         # 'tree_method': trial.suggest_categorical('tree_method', ['auto', 'exact', 'approx', 'hist', 'gpu_hist']),\n",
    "#         'sampling_method': 'uniform',\n",
    "#     }\n",
    "\n",
    "#     if param['booster'] in ['gbtree', 'dart']:\n",
    "#         param['max_depth'] = trial.suggest_int('max_depth', 1, 9)\n",
    "#         param['gamma'] = trial.suggest_float('gamma', 1e-8, 1.0, log=True)\n",
    "#         param['grow_policy'] = trial.suggest_categorical('grow_policy', ['depthwise', 'lossguide'])\n",
    "\n",
    "#     if param['booster'] == 'dart':\n",
    "#         param['sample_type'] = trial.suggest_categorical('sample_type', ['uniform', 'weighted'])\n",
    "#         param['normalize_type'] = trial.suggest_categorical('normalize_type', ['tree', 'forest'])\n",
    "#         param['rate_drop'] = trial.suggest_float('rate_drop', 0.0, 1.0)\n",
    "#         param['skip_drop'] = trial.suggest_float('skip_drop', 0.0, 1.0)\n",
    "\n",
    "#     # Create and train the model\n",
    "#     model = xgb.XGBRegressor(**param, early_stopping_rounds=50)\n",
    "#     model.fit(X_train, y_train, eval_set=[(X_test, y_test)], verbose=False)\n",
    "\n",
    "#     # Predict and calculate MAE\n",
    "#     preds = model.predict(X_test)\n",
    "#     mae = mean_absolute_error(y_test, preds)\n",
    "    \n",
    "#     return mae\n",
    "\n",
    "\n",
    "# study = optuna.create_study(direction='minimize')\n",
    "# study.optimize(objective, n_trials=100)  # Adjust n_trials as needed\n",
    "\n",
    "# best_params = study.best_params\n",
    "# print(\"Best parameters:\", best_params)\n",
    "\n",
    "# best_model = xgb.XGBRegressor(**best_params)\n",
    "# best_model.fit(X_train, y_train)\n",
    "# predictions = best_model.predict(X_test)\n",
    "# final_mae = mean_absolute_error(y_test, predictions)\n",
    "# print(\"Final MAE:\", final_mae)"
   ]
  },
  {
   "cell_type": "markdown",
   "id": "2cedb674-b26b-4dad-8536-31f5d9079b15",
   "metadata": {},
   "source": [
    "## Best performer\n",
    "\n",
    "https://notebooks.cloud.google.com/view/tf-mnb-bucket-for_gang_huang/executor_files/final_xgboost_gh_install_xgboost/final_xgboost_gh_at_2024_05_26_09_08_18.ipynb?_ga=2.173138790.-472508634.1710958628"
   ]
  },
  {
   "cell_type": "code",
   "execution_count": 9,
   "id": "298ed6f4-9610-4336-9aba-3014c61eea03",
   "metadata": {
    "tags": []
   },
   "outputs": [
    {
     "name": "stderr",
     "output_type": "stream",
     "text": [
      "/opt/conda/lib/python3.10/site-packages/xgboost/sklearn.py:885: UserWarning: `early_stopping_rounds` in `fit` method is deprecated for better compatibility with scikit-learn, use `early_stopping_rounds` in constructor or`set_params` instead.\n",
      "  warnings.warn(\n"
     ]
    },
    {
     "name": "stdout",
     "output_type": "stream",
     "text": [
      "MAE on Test Set: 11.62972\n",
      "MSE on Test Set: 232.4717\n",
      "RMSE on Test Set: 15.24702\n",
      "R2 on Test Set: 0.30553\n",
      "MAPE on Test Set: 1845812048640992.0\n"
     ]
    }
   ],
   "source": [
    "import xgboost as xgb\n",
    "from sklearn.metrics import mean_absolute_error, mean_squared_error, r2_score, mean_absolute_percentage_error\n",
    "\n",
    "# # Best parameters as obtained from your tuning\n",
    "# best_params = {\n",
    "#     'booster': 'gbtree',\n",
    "#     'lambda': 0.10789604170982146,\n",
    "#     'alpha': 0.011973268750720061,\n",
    "#     'subsample': 0.7114597091729832,\n",
    "#     'colsample_bytree': 0.8449372802141699,\n",
    "#     'min_child_weight': 2.455203448711688,\n",
    "#     'n_estimators': 277,\n",
    "#     'eta': 0.13532650973616234,\n",
    "#     'max_depth': 4,\n",
    "#     'gamma': 3.458865659897043e-05,\n",
    "#     'grow_policy': 'lossguide'\n",
    "# }\n",
    "\n",
    "best_params = {\n",
    "    'booster': 'gbtree',\n",
    "    'lambda': 0.0001682885533435929,\n",
    "    'alpha': 1.4545349952166233e-08,\n",
    "    'subsample': 0.8001301757519088,\n",
    "    'colsample_bytree': 0.8286111132463208,\n",
    "    'min_child_weight': 3.19409978105852,\n",
    "    'n_estimators': 196,\n",
    "    'eta': 0.13124391559023546,\n",
    "    'max_depth': 4,\n",
    "    'gamma': 5.034688998428794e-08,\n",
    "    'grow_policy': 'depthwise'\n",
    "}\n",
    "\n",
    "\n",
    "# Assuming X_train, y_train, X_test, and y_test are already defined in your workspace\n",
    "# Create the XGBRegressor model with the best parameters\n",
    "model = xgb.XGBRegressor(\n",
    "    verbosity=0,  # Keeping the training logs quiet\n",
    "    objective='reg:absoluteerror',  # As you focused on MAE\n",
    "    **best_params\n",
    ")\n",
    "\n",
    "# Fit the model\n",
    "model.fit(X_train, y_train, eval_set=[(X_test, y_test)], verbose=0, early_stopping_rounds=50)\n",
    "\n",
    "# Make predictions\n",
    "predictions = model.predict(X_test)\n",
    "\n",
    "# Calculate the Mean Absolute Error\n",
    "\n",
    "# final_mae = mean_absolute_error(y_test, predictions)\n",
    "# print(\"Final MAE on test set:\", final_mae)\n",
    "\n",
    "print(\"MAE on Test Set:\", round(mean_absolute_error(y_test, predictions),5))\n",
    "print(\"MSE on Test Set:\", round(mean_squared_error(y_test, predictions),5))\n",
    "print(\"RMSE on Test Set:\", round(np.sqrt(mean_squared_error(y_test, predictions)),5))\n",
    "print(\"R2 on Test Set:\", round(r2_score(y_test, predictions),5))\n",
    "print(\"MAPE on Test Set:\", round(mean_absolute_percentage_error(y_test, predictions),5)) "
   ]
  },
  {
   "cell_type": "code",
   "execution_count": 10,
   "id": "9cf5e657-5a01-455c-8a57-ddb0c8a2bafc",
   "metadata": {
    "tags": []
   },
   "outputs": [
    {
     "name": "stdout",
     "output_type": "stream",
     "text": [
      "MAE on Train Set: 12.09632\n",
      "MSE on Train Set: 274.30444\n",
      "RMSE on Train Set: 16.56214\n",
      "R2 on Train Set: 0.45727\n",
      "MAPE on Train Set: 554410988308164.44\n"
     ]
    }
   ],
   "source": [
    "# Predictions on training\n",
    "preds_train = model.predict(X_train)\n",
    "\n",
    "print(\"MAE on Train Set:\", round(mean_absolute_error(y_train, preds_train),5))\n",
    "print(\"MSE on Train Set:\", round(mean_squared_error(y_train, preds_train),5))\n",
    "print(\"RMSE on Train Set:\", round(np.sqrt(mean_squared_error(y_train, preds_train)),5))\n",
    "print(\"R2 on Train Set:\", round(r2_score(y_train, preds_train),5))\n",
    "print(\"MAPE on Train Set:\", round(mean_absolute_percentage_error(y_train, preds_train),5)) "
   ]
  },
  {
   "cell_type": "code",
   "execution_count": 16,
   "id": "d8e36501-9854-4656-931c-fd8b8f7c0c3b",
   "metadata": {
    "tags": []
   },
   "outputs": [
    {
     "name": "stderr",
     "output_type": "stream",
     "text": [
      "/tmp/ipykernel_1/3211745372.py:1: SettingWithCopyWarning: \n",
      "A value is trying to be set on a copy of a slice from a DataFrame.\n",
      "Try using .loc[row_indexer,col_indexer] = value instead\n",
      "\n",
      "See the caveats in the documentation: https://pandas.pydata.org/pandas-docs/stable/user_guide/indexing.html#returning-a-view-versus-a-copy\n",
      "  X_test['ama'] = y_test\n",
      "/tmp/ipykernel_1/3211745372.py:2: SettingWithCopyWarning: \n",
      "A value is trying to be set on a copy of a slice from a DataFrame.\n",
      "Try using .loc[row_indexer,col_indexer] = value instead\n",
      "\n",
      "See the caveats in the documentation: https://pandas.pydata.org/pandas-docs/stable/user_guide/indexing.html#returning-a-view-versus-a-copy\n",
      "  X_test['y_pred'] = predictions\n"
     ]
    }
   ],
   "source": [
    "X_test['ama'] = y_test\n",
    "X_test['y_pred'] = predictions"
   ]
  },
  {
   "cell_type": "code",
   "execution_count": 17,
   "id": "95c6ca75-e420-4ede-8be0-ba48a910199c",
   "metadata": {
    "tags": []
   },
   "outputs": [
    {
     "name": "stderr",
     "output_type": "stream",
     "text": [
      "/tmp/ipykernel_1/2166114081.py:1: SettingWithCopyWarning: \n",
      "A value is trying to be set on a copy of a slice from a DataFrame.\n",
      "Try using .loc[row_indexer,col_indexer] = value instead\n",
      "\n",
      "See the caveats in the documentation: https://pandas.pydata.org/pandas-docs/stable/user_guide/indexing.html#returning-a-view-versus-a-copy\n",
      "  X_test['abs_error'] = abs(X_test['ama']-X_test['y_pred'])\n"
     ]
    }
   ],
   "source": [
    "X_test['abs_error'] = abs(X_test['ama']-X_test['y_pred'])"
   ]
  },
  {
   "cell_type": "code",
   "execution_count": 18,
   "id": "c7c01751-d6fd-4efd-b09f-4e0760aa24de",
   "metadata": {
    "tags": []
   },
   "outputs": [
    {
     "data": {
      "text/plain": [
       "14.834053451309595"
      ]
     },
     "execution_count": 18,
     "metadata": {},
     "output_type": "execute_result"
    }
   ],
   "source": [
    "X_test[X_test.tod_prime==1]['abs_error'].mean()"
   ]
  },
  {
   "cell_type": "code",
   "execution_count": null,
   "id": "d2c662db-3818-4f54-981a-eff41aa23e64",
   "metadata": {},
   "outputs": [],
   "source": []
  }
 ],
 "metadata": {
  "kernelspec": {
   "display_name": "Custom [mdeai-cu113-py310]",
   "language": "python",
   "name": "northamerica-northeast1-docker.pkg.dev_prj-cxbi-dev-nane1-dsc-expe_notebooks-images_mdeai_mdeai-cu113-py310_latest__python3"
  },
  "language_info": {
   "codemirror_mode": {
    "name": "ipython",
    "version": 3
   },
   "file_extension": ".py",
   "mimetype": "text/x-python",
   "name": "python",
   "nbconvert_exporter": "python",
   "pygments_lexer": "ipython3",
   "version": "3.10.12"
  }
 },
 "nbformat": 4,
 "nbformat_minor": 5
}
